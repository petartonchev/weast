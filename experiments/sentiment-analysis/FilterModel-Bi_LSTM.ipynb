{
 "cells": [
  {
   "cell_type": "markdown",
   "metadata": {},
   "source": [
    "# Relevant Tweets Filter"
   ]
  },
  {
   "cell_type": "markdown",
   "metadata": {},
   "source": [
    "In this notebook we build a classifier that recognizes which tweets are related to the stock of the company and which are just spam.\n",
    "\n",
    "The classifier would be a simple Bi-Directional LSTM train for very few epochs due to the limited amount of data."
   ]
  },
  {
   "cell_type": "markdown",
   "metadata": {
    "id": "woPNcQEXJgz3"
   },
   "source": [
    "## Mount Drive"
   ]
  },
  {
   "cell_type": "code",
   "execution_count": null,
   "metadata": {
    "id": "oM5p3p57s_nj"
   },
   "outputs": [],
   "source": [
    "from google.colab import drive\n",
    "drive.mount('/content/drive')"
   ]
  },
  {
   "cell_type": "code",
   "execution_count": null,
   "metadata": {
    "colab": {
     "base_uri": "https://localhost:8080/",
     "height": 55
    },
    "id": "0vPMji1Otnfv",
    "outputId": "97212780-308c-433a-96d2-a9c8a32d166f"
   },
   "outputs": [
    {
     "name": "stdout",
     "output_type": "stream",
     "text": [
      "/content/drive/My Drive/Data\n"
     ]
    }
   ],
   "source": [
    "%cd /content/drive/My Drive/Data"
   ]
  },
  {
   "cell_type": "markdown",
   "metadata": {
    "id": "Fyn-bhBDKO4P"
   },
   "source": [
    "## Download all the dependencies"
   ]
  },
  {
   "cell_type": "code",
   "execution_count": null,
   "metadata": {
    "id": "Zy1HsdF85sdV"
   },
   "outputs": [],
   "source": [
    "!mkdir tweet_data"
   ]
  },
  {
   "cell_type": "markdown",
   "metadata": {
    "id": "W57QJwKkPGTZ"
   },
   "source": [
    "Skip this if you have already download all the dependencies"
   ]
  },
  {
   "cell_type": "code",
   "execution_count": null,
   "metadata": {
    "colab": {
     "base_uri": "https://localhost:8080/",
     "height": 407
    },
    "id": "gqXqV3uNKTAB",
    "outputId": "44543b9e-5d49-4e3b-9208-445a77064558"
   },
   "outputs": [
    {
     "name": "stdout",
     "output_type": "stream",
     "text": [
      "--2019-12-08 20:26:06--  http://nlp.stanford.edu/data/glove.6B.zip\n",
      "Resolving nlp.stanford.edu (nlp.stanford.edu)... 171.64.67.140\n",
      "Connecting to nlp.stanford.edu (nlp.stanford.edu)|171.64.67.140|:80... connected.\n",
      "HTTP request sent, awaiting response... 302 Found\n",
      "Location: https://nlp.stanford.edu/data/glove.6B.zip [following]\n",
      "--2019-12-08 20:26:06--  https://nlp.stanford.edu/data/glove.6B.zip\n",
      "Connecting to nlp.stanford.edu (nlp.stanford.edu)|171.64.67.140|:443... connected.\n",
      "HTTP request sent, awaiting response... 301 Moved Permanently\n",
      "Location: http://downloads.cs.stanford.edu/nlp/data/glove.6B.zip [following]\n",
      "--2019-12-08 20:26:07--  http://downloads.cs.stanford.edu/nlp/data/glove.6B.zip\n",
      "Resolving downloads.cs.stanford.edu (downloads.cs.stanford.edu)... 171.64.64.22\n",
      "Connecting to downloads.cs.stanford.edu (downloads.cs.stanford.edu)|171.64.64.22|:80... connected.\n",
      "HTTP request sent, awaiting response... 200 OK\n",
      "Length: 862182613 (822M) [application/zip]\n",
      "Saving to: ‘glove.6B.zip’\n",
      "\n",
      "glove.6B.zip        100%[===================>] 822.24M  1.95MB/s    in 6m 29s  \n",
      "\n",
      "2019-12-08 20:32:37 (2.11 MB/s) - ‘glove.6B.zip’ saved [862182613/862182613]\n",
      "\n",
      "unzip:  cannot find or open glove.6B.300d.zip, glove.6B.300d.zip.zip or glove.6B.300d.zip.ZIP.\n"
     ]
    }
   ],
   "source": [
    "# Download the glove embedding\n",
    "\n",
    "#!wget http://nlp.stanford.edu/data/glove.42B.300d.zip\n",
    "#!unzip glove.42B.300d.zip\n",
    "\n",
    "!wget http://nlp.stanford.edu/data/glove.6B.zip\n",
    "!unzip glove.6B.zip"
   ]
  },
  {
   "cell_type": "code",
   "execution_count": null,
   "metadata": {
    "colab": {
     "base_uri": "https://localhost:8080/",
     "height": 160
    },
    "id": "v_qz6DfGKS95",
    "outputId": "7a699574-80e2-4b9f-a0de-482331ed8d67"
   },
   "outputs": [
    {
     "name": "stdout",
     "output_type": "stream",
     "text": [
      "/usr/lib/python3.6/runpy.py:125: RuntimeWarning: 'gensim.scripts.glove2word2vec' found in sys.modules after import of package 'gensim.scripts', but prior to execution of 'gensim.scripts.glove2word2vec'; this may result in unpredictable behaviour\n",
      "  warn(RuntimeWarning(msg))\n",
      "2019-12-08 20:46:02,945 - glove2word2vec - INFO - running /usr/local/lib/python3.6/dist-packages/gensim/scripts/glove2word2vec.py -i glove.6B.300d.txt -o glove.6B.300d.word2vec.txt\n",
      "/usr/local/lib/python3.6/dist-packages/smart_open/smart_open_lib.py:402: UserWarning: This function is deprecated, use smart_open.open instead. See the migration notes for details: https://github.com/RaRe-Technologies/smart_open/blob/master/README.rst#migrating-to-the-new-open-function\n",
      "  'See the migration notes for details: %s' % _MIGRATION_NOTES_URL\n",
      "2019-12-08 20:46:03,989 - glove2word2vec - INFO - converting 400000 vectors from glove.6B.300d.txt to glove.6B.300d.word2vec.txt\n",
      "2019-12-08 20:46:08,336 - glove2word2vec - INFO - Converted model with 400000 vectors and 300 dimensions\n"
     ]
    }
   ],
   "source": [
    "# !python -m gensim.scripts.glove2word2vec -i glove.42B.300d.txt -o glove.42B.300d.word2vec.txt\n",
    "!python -m gensim.scripts.glove2word2vec -i glove.6B.300d.txt -o glove.6B.300d.word2vec.txt"
   ]
  },
  {
   "cell_type": "markdown",
   "metadata": {
    "id": "wRP9_1TKJgz8"
   },
   "source": [
    "# Start Coding"
   ]
  },
  {
   "cell_type": "code",
   "execution_count": null,
   "metadata": {
    "id": "c2lesDxPJgz_"
   },
   "outputs": [],
   "source": [
    "import os\n",
    "import glob\n",
    "import numpy as np\n",
    "import email\n",
    "import pandas as pd"
   ]
  },
  {
   "cell_type": "markdown",
   "metadata": {
    "id": "i8MHr35K6Yca"
   },
   "source": [
    "# Load the data"
   ]
  },
  {
   "cell_type": "code",
   "execution_count": null,
   "metadata": {
    "colab": {
     "base_uri": "https://localhost:8080/",
     "height": 260
    },
    "id": "c4EE00XJ6cVR",
    "outputId": "b7732f9e-303e-4c77-aac6-82d899cb5fee"
   },
   "outputs": [
    {
     "data": {
      "text/html": [
       "<div>\n",
       "<style scoped>\n",
       "    .dataframe tbody tr th:only-of-type {\n",
       "        vertical-align: middle;\n",
       "    }\n",
       "\n",
       "    .dataframe tbody tr th {\n",
       "        vertical-align: top;\n",
       "    }\n",
       "\n",
       "    .dataframe thead th {\n",
       "        text-align: right;\n",
       "    }\n",
       "</style>\n",
       "<table border=\"1\" class=\"dataframe\">\n",
       "  <thead>\n",
       "    <tr style=\"text-align: right;\">\n",
       "      <th></th>\n",
       "      <th>label</th>\n",
       "      <th>Tweet</th>\n",
       "      <th>Sentiment</th>\n",
       "      <th>Objetive/Subjective</th>\n",
       "    </tr>\n",
       "    <tr>\n",
       "      <th>db_id</th>\n",
       "      <th></th>\n",
       "      <th></th>\n",
       "      <th></th>\n",
       "      <th></th>\n",
       "    </tr>\n",
       "  </thead>\n",
       "  <tbody>\n",
       "    <tr>\n",
       "      <th>0</th>\n",
       "      <td>0.0</td>\n",
       "      <td>FB high OI range is        to        for opti...</td>\n",
       "      <td>0</td>\n",
       "      <td>0.540000</td>\n",
       "    </tr>\n",
       "    <tr>\n",
       "      <th>1</th>\n",
       "      <td>-1.0</td>\n",
       "      <td>Is Facebook Doubling Down on Virtual Reality  ...</td>\n",
       "      <td>-1</td>\n",
       "      <td>0.288889</td>\n",
       "    </tr>\n",
       "    <tr>\n",
       "      <th>2</th>\n",
       "      <td>-1.0</td>\n",
       "      <td>markfidelman   What Zuckerberg Should Have Tol...</td>\n",
       "      <td>-1</td>\n",
       "      <td>0.000000</td>\n",
       "    </tr>\n",
       "    <tr>\n",
       "      <th>3</th>\n",
       "      <td>-1.0</td>\n",
       "      <td>What Zuckerberg Should Have Told Congress Abou...</td>\n",
       "      <td>-1</td>\n",
       "      <td>0.000000</td>\n",
       "    </tr>\n",
       "    <tr>\n",
       "      <th>4</th>\n",
       "      <td>0.0</td>\n",
       "      <td>Facebook  Inc   FB Given Average Rating of  Bu...</td>\n",
       "      <td>1</td>\n",
       "      <td>0.400000</td>\n",
       "    </tr>\n",
       "  </tbody>\n",
       "</table>\n",
       "</div>"
      ],
      "text/plain": [
       "       label  ... Objetive/Subjective\n",
       "db_id         ...                    \n",
       "0        0.0  ...            0.540000\n",
       "1       -1.0  ...            0.288889\n",
       "2       -1.0  ...            0.000000\n",
       "3       -1.0  ...            0.000000\n",
       "4        0.0  ...            0.400000\n",
       "\n",
       "[5 rows x 4 columns]"
      ]
     },
     "execution_count": 172,
     "metadata": {
      "tags": []
     },
     "output_type": "execute_result"
    }
   ],
   "source": [
    "tweets_df = pd.read_csv('moodstock_data/MoodstockDataset_Relevant-Irrelevant_Tweets.csv', sep=',', index_col='db_id')\n",
    "tweets_df.drop(['Original Text'], axis=1, inplace=True)\n",
    "tweets_df = tweets_df.dropna()\n",
    "tweets_df.head()"
   ]
  },
  {
   "cell_type": "markdown",
   "metadata": {
    "id": "VScyubyG_iz-"
   },
   "source": [
    "### Create Lables\n",
    "\n",
    "We make two labels, to keep or to discard a tweet. Since in the original data `0` means keep and `-1` means the tweet is not relevant we would use it as it is but we convert the `-1` to `1`. There are some of them which are labeled -2. This means they are relevant but with wrong sentiment so we make them be part of the `0` class.\n",
    "\n",
    "| label| meaning    |\n",
    "|------|------------|\n",
    "|  0   | relevant   |\n",
    "|  1   | not relevant|\n"
   ]
  },
  {
   "cell_type": "code",
   "execution_count": null,
   "metadata": {
    "colab": {
     "base_uri": "https://localhost:8080/",
     "height": 260
    },
    "id": "GkT3ynp47Tlp",
    "outputId": "2a6cd527-2f75-4699-ab3b-1691c5b1304c"
   },
   "outputs": [
    {
     "data": {
      "text/html": [
       "<div>\n",
       "<style scoped>\n",
       "    .dataframe tbody tr th:only-of-type {\n",
       "        vertical-align: middle;\n",
       "    }\n",
       "\n",
       "    .dataframe tbody tr th {\n",
       "        vertical-align: top;\n",
       "    }\n",
       "\n",
       "    .dataframe thead th {\n",
       "        text-align: right;\n",
       "    }\n",
       "</style>\n",
       "<table border=\"1\" class=\"dataframe\">\n",
       "  <thead>\n",
       "    <tr style=\"text-align: right;\">\n",
       "      <th></th>\n",
       "      <th>label</th>\n",
       "      <th>Tweet</th>\n",
       "      <th>Sentiment</th>\n",
       "      <th>Objetive/Subjective</th>\n",
       "    </tr>\n",
       "    <tr>\n",
       "      <th>db_id</th>\n",
       "      <th></th>\n",
       "      <th></th>\n",
       "      <th></th>\n",
       "      <th></th>\n",
       "    </tr>\n",
       "  </thead>\n",
       "  <tbody>\n",
       "    <tr>\n",
       "      <th>0</th>\n",
       "      <td>0.0</td>\n",
       "      <td>FB high OI range is        to        for opti...</td>\n",
       "      <td>0</td>\n",
       "      <td>0.540000</td>\n",
       "    </tr>\n",
       "    <tr>\n",
       "      <th>1</th>\n",
       "      <td>1.0</td>\n",
       "      <td>Is Facebook Doubling Down on Virtual Reality  ...</td>\n",
       "      <td>-1</td>\n",
       "      <td>0.288889</td>\n",
       "    </tr>\n",
       "    <tr>\n",
       "      <th>2</th>\n",
       "      <td>1.0</td>\n",
       "      <td>markfidelman   What Zuckerberg Should Have Tol...</td>\n",
       "      <td>-1</td>\n",
       "      <td>0.000000</td>\n",
       "    </tr>\n",
       "    <tr>\n",
       "      <th>3</th>\n",
       "      <td>1.0</td>\n",
       "      <td>What Zuckerberg Should Have Told Congress Abou...</td>\n",
       "      <td>-1</td>\n",
       "      <td>0.000000</td>\n",
       "    </tr>\n",
       "    <tr>\n",
       "      <th>4</th>\n",
       "      <td>0.0</td>\n",
       "      <td>Facebook  Inc   FB Given Average Rating of  Bu...</td>\n",
       "      <td>1</td>\n",
       "      <td>0.400000</td>\n",
       "    </tr>\n",
       "  </tbody>\n",
       "</table>\n",
       "</div>"
      ],
      "text/plain": [
       "       label  ... Objetive/Subjective\n",
       "db_id         ...                    \n",
       "0        0.0  ...            0.540000\n",
       "1        1.0  ...            0.288889\n",
       "2        1.0  ...            0.000000\n",
       "3        1.0  ...            0.000000\n",
       "4        0.0  ...            0.400000\n",
       "\n",
       "[5 rows x 4 columns]"
      ]
     },
     "execution_count": 173,
     "metadata": {
      "tags": []
     },
     "output_type": "execute_result"
    }
   ],
   "source": [
    "tweets_df['label'] = tweets_df['label'].replace({-1:1, -2:0})\n",
    "tweets_df.head()"
   ]
  },
  {
   "cell_type": "code",
   "execution_count": null,
   "metadata": {
    "id": "I73jDDMt9v8e"
   },
   "outputs": [],
   "source": [
    "x = tweets_df['Tweet'].values\n",
    "y = tweets_df['label'].values"
   ]
  },
  {
   "cell_type": "code",
   "execution_count": null,
   "metadata": {
    "colab": {
     "base_uri": "https://localhost:8080/",
     "height": 301
    },
    "id": "Oy5LFsE_BLyi",
    "outputId": "d76c3429-fd01-401e-d81f-3231e6b3bacb"
   },
   "outputs": [
    {
     "data": {
      "image/png": "[encoded data removed]",
      "text/plain": [
       "<Figure size 432x288 with 1 Axes>"
      ]
     },
     "metadata": {
      "tags": []
     },
     "output_type": "display_data"
    }
   ],
   "source": [
    "import matplotlib.pyplot as plt\n",
    "%matplotlib inline\n",
    "\n",
    "unique_labels = np.unique(y, return_counts=True)\n",
    "plt.bar(['relevant', 'not relevant'],unique_labels[1])\n",
    "plt.title('Class Distribution')\n",
    "plt.show()"
   ]
  },
  {
   "cell_type": "markdown",
   "metadata": {
    "id": "yTFlyxYkJg0S"
   },
   "source": [
    "# Split data into train/test"
   ]
  },
  {
   "cell_type": "markdown",
   "metadata": {
    "id": "dNBFJG_iBCqf"
   },
   "source": [
    "Make a stratified split to ensure equal distribution of the samples from each class."
   ]
  },
  {
   "cell_type": "code",
   "execution_count": null,
   "metadata": {
    "id": "PKJ-Hz6VJg0T"
   },
   "outputs": [],
   "source": [
    "from sklearn.model_selection import train_test_split"
   ]
  },
  {
   "cell_type": "code",
   "execution_count": null,
   "metadata": {
    "id": "XJXnebpdJg0u"
   },
   "outputs": [],
   "source": [
    "x_train, x_test, y_train, y_test = train_test_split(x, y,stratify=y, test_size=0.25)"
   ]
  },
  {
   "cell_type": "markdown",
   "metadata": {
    "id": "AeYUq7KUwzID"
   },
   "source": [
    "Shuffle the data for better results"
   ]
  },
  {
   "cell_type": "code",
   "execution_count": null,
   "metadata": {
    "id": "aCWVWIByJg1B"
   },
   "outputs": [],
   "source": [
    "# Train\n",
    "train_shuffle_index = np.random.permutation(np.arange(0,x_train.shape[0]))\n",
    "\n",
    "x_train = x_train[train_shuffle_index]\n",
    "y_train = y_train[train_shuffle_index]\n",
    "\n",
    "# Test\n",
    "test_shuffle_index = np.random.permutation(np.arange(0,x_test.shape[0]))\n",
    "\n",
    "x_test = x_test[test_shuffle_index]\n",
    "y_test = y_test[test_shuffle_index]"
   ]
  },
  {
   "cell_type": "markdown",
   "metadata": {
    "id": "wKqYziutJg1d"
   },
   "source": [
    "# Preprocessing"
   ]
  },
  {
   "cell_type": "markdown",
   "metadata": {
    "id": "tc3_X5_Ayd37"
   },
   "source": [
    "Now we have to preprocess the data using the following techniques:\n",
    "\n",
    "\n",
    "*   remove urls\n",
    "*   convert words to lower case\n",
    "*   remove numbers\n",
    "*   remove punctuation\n",
    "*   remove white spaces\n",
    "*   replace new line character ('\\n')\n",
    "*   removing stop words a, the, and so on…\n",
    "\n"
   ]
  },
  {
   "cell_type": "markdown",
   "metadata": {
    "id": "UNVgntkNJg1e"
   },
   "source": [
    "## Process sentence"
   ]
  },
  {
   "cell_type": "code",
   "execution_count": null,
   "metadata": {
    "id": "ryMjuCo0Jg1f"
   },
   "outputs": [],
   "source": [
    "import re\n",
    "import string\n",
    "from nltk.tokenize import word_tokenize\n"
   ]
  },
  {
   "cell_type": "code",
   "execution_count": null,
   "metadata": {
    "id": "vMg4m6JiJg1k"
   },
   "outputs": [],
   "source": [
    "def remove_hyperlink(word):\n",
    "    return  re.sub(r\"http\\S+\", \"\", word)"
   ]
  },
  {
   "cell_type": "code",
   "execution_count": null,
   "metadata": {
    "id": "JEF6lZ3xJg1m"
   },
   "outputs": [],
   "source": [
    "def to_lower(word):\n",
    "    result = word.lower()\n",
    "    return result"
   ]
  },
  {
   "cell_type": "code",
   "execution_count": null,
   "metadata": {
    "id": "J3mOLxp0Jg1r"
   },
   "outputs": [],
   "source": [
    "def remove_number(word):\n",
    "    result = re.sub(r'\\d+', '', word)\n",
    "    return result"
   ]
  },
  {
   "cell_type": "code",
   "execution_count": null,
   "metadata": {
    "id": "r5axXMo-Jg1u"
   },
   "outputs": [],
   "source": [
    "def remove_punctuation(word):\n",
    "    result = word.translate(str.maketrans(dict.fromkeys(string.punctuation)))\n",
    "    return result"
   ]
  },
  {
   "cell_type": "code",
   "execution_count": null,
   "metadata": {
    "id": "-EWMmVfFJg1w"
   },
   "outputs": [],
   "source": [
    "def remove_whitespace(word):\n",
    "    return word.strip()"
   ]
  },
  {
   "cell_type": "code",
   "execution_count": null,
   "metadata": {
    "id": "uiiWG07CJg1z"
   },
   "outputs": [],
   "source": [
    "def replace_newline(word):\n",
    "    return word.replace('\\n','')"
   ]
  },
  {
   "cell_type": "code",
   "execution_count": null,
   "metadata": {
    "id": "4HB8JP9NJg12"
   },
   "outputs": [],
   "source": [
    "def clean_up_pipeline(sentence):\n",
    "    cleaning_utils = [\n",
    "                    remove_hyperlink,\n",
    "                    replace_newline,\n",
    "                    to_lower,\n",
    "                    remove_number,\n",
    "                    remove_punctuation,\n",
    "                    remove_whitespace\n",
    "                ]\n",
    "    for o in cleaning_utils:\n",
    "        sentence = o(sentence)\n",
    "    return sentence"
   ]
  },
  {
   "cell_type": "code",
   "execution_count": null,
   "metadata": {
    "id": "-S0QuLxnJg14"
   },
   "outputs": [],
   "source": [
    "x_train = [clean_up_pipeline(o) for o in x_train]\n",
    "x_test = [clean_up_pipeline(o) for o in x_test]"
   ]
  },
  {
   "cell_type": "code",
   "execution_count": null,
   "metadata": {
    "colab": {
     "base_uri": "https://localhost:8080/",
     "height": 55
    },
    "id": "Vcw2mImRDxfk",
    "outputId": "8df79e59-9915-49e8-87c4-1d2757e201a8"
   },
   "outputs": [
    {
     "data": {
      "text/plain": [
       "'wmt s price moved above its    day moving average on november           view odds for this and other indicators    walmart  stockmarket  stock  technicalanalysis  money  trading  investing  daytrading  news  today'"
      ]
     },
     "execution_count": 119,
     "metadata": {
      "tags": []
     },
     "output_type": "execute_result"
    }
   ],
   "source": [
    "\n",
    "x_train[0]"
   ]
  },
  {
   "cell_type": "markdown",
   "metadata": {
    "id": "1MHRNilvJg16"
   },
   "source": [
    "## Process word by word"
   ]
  },
  {
   "cell_type": "code",
   "execution_count": null,
   "metadata": {
    "colab": {
     "base_uri": "https://localhost:8080/",
     "height": 125
    },
    "id": "eTj_mB9hJg17",
    "outputId": "e12a1a85-e970-47d9-ce5b-da7fbe071ef6"
   },
   "outputs": [
    {
     "name": "stdout",
     "output_type": "stream",
     "text": [
      "[nltk_data] Downloading package punkt to /root/nltk_data...\n",
      "[nltk_data]   Package punkt is already up-to-date!\n",
      "[nltk_data] Downloading package wordnet to /root/nltk_data...\n",
      "[nltk_data]   Package wordnet is already up-to-date!\n"
     ]
    },
    {
     "data": {
      "text/plain": [
       "True"
      ]
     },
     "execution_count": 120,
     "metadata": {
      "tags": []
     },
     "output_type": "execute_result"
    }
   ],
   "source": [
    "import nltk\n",
    "from nltk.tokenize import word_tokenize\n",
    "from sklearn.feature_extraction.stop_words import ENGLISH_STOP_WORDS\n",
    "from nltk.stem import PorterStemmer\n",
    "from nltk.stem import WordNetLemmatizer\n",
    "\n",
    "nltk.download('punkt')\n",
    "nltk.download('wordnet')"
   ]
  },
  {
   "cell_type": "code",
   "execution_count": null,
   "metadata": {
    "id": "EqRqAdCIJg19"
   },
   "outputs": [],
   "source": [
    "stemmer = PorterStemmer()\n",
    "lemmatizer = WordNetLemmatizer()"
   ]
  },
  {
   "cell_type": "code",
   "execution_count": null,
   "metadata": {
    "id": "X1BxhgJvJg1-"
   },
   "outputs": [],
   "source": [
    "x_train = [word_tokenize(o) for o in x_train]\n",
    "x_test = [word_tokenize(o) for o in x_test]"
   ]
  },
  {
   "cell_type": "code",
   "execution_count": null,
   "metadata": {
    "id": "nWmozlZbJg2A"
   },
   "outputs": [],
   "source": [
    "def remove_stop_words(words):\n",
    "    result = [i for i in words if i not in ENGLISH_STOP_WORDS]\n",
    "    return result"
   ]
  },
  {
   "cell_type": "code",
   "execution_count": null,
   "metadata": {
    "id": "bV2Md7NhJg2C"
   },
   "outputs": [],
   "source": [
    "def word_stemmer(words):\n",
    "    return [stemmer.stem(o) for o in words]"
   ]
  },
  {
   "cell_type": "code",
   "execution_count": null,
   "metadata": {
    "id": "rZ5TwLdVJg2F"
   },
   "outputs": [],
   "source": [
    "def word_lemmatizer(words):\n",
    "    return [lemmatizer.lemmatize(o) for o in words]"
   ]
  },
  {
   "cell_type": "code",
   "execution_count": null,
   "metadata": {
    "id": "DANT21luJg2J"
   },
   "outputs": [],
   "source": [
    "def clean_token_pipeline(words):\n",
    "    cleaning_utils = [remove_stop_words,word_lemmatizer]\n",
    "    for o in cleaning_utils:\n",
    "        words = o(words)\n",
    "    return words"
   ]
  },
  {
   "cell_type": "code",
   "execution_count": null,
   "metadata": {
    "id": "-YTl8p_oJg2K"
   },
   "outputs": [],
   "source": [
    "x_train = [clean_token_pipeline(o) for o in x_train]\n",
    "x_test = [clean_token_pipeline(o) for o in x_test]"
   ]
  },
  {
   "cell_type": "code",
   "execution_count": null,
   "metadata": {
    "colab": {
     "base_uri": "https://localhost:8080/",
     "height": 284
    },
    "id": "HCTiAX7jGPGD",
    "outputId": "0e687c66-a9f4-4a57-9c9a-974e43bf4ac3"
   },
   "outputs": [
    {
     "data": {
      "text/plain": [
       "['group',\n",
       " 'daily',\n",
       " 'technical',\n",
       " 'video',\n",
       " 'ready',\n",
       " 'member',\n",
       " 'covering',\n",
       " 'instrument',\n",
       " 'technical',\n",
       " 'market',\n",
       " 'xom',\n",
       " 'key',\n",
       " 'elliottwave',\n",
       " 'trading']"
      ]
     },
     "execution_count": 128,
     "metadata": {
      "tags": []
     },
     "output_type": "execute_result"
    }
   ],
   "source": [
    "x_train[1]"
   ]
  },
  {
   "cell_type": "markdown",
   "metadata": {
    "id": "vxfQbab_Jg2c"
   },
   "source": [
    "# Extract Features from Words"
   ]
  },
  {
   "cell_type": "markdown",
   "metadata": {
    "id": "U7sRMbhKJg2d"
   },
   "source": [
    "## Use Glove Pretrain"
   ]
  },
  {
   "cell_type": "code",
   "execution_count": null,
   "metadata": {
    "colab": {
     "base_uri": "https://localhost:8080/",
     "height": 102
    },
    "id": "OsHRosFGJg2e",
    "outputId": "74fc865c-fb94-4016-d1d1-5c3aab2ea3f7"
   },
   "outputs": [
    {
     "name": "stderr",
     "output_type": "stream",
     "text": [
      "Using TensorFlow backend.\n"
     ]
    },
    {
     "data": {
      "text/html": [
       "<p style=\"color: red;\">\n",
       "The default version of TensorFlow in Colab will soon switch to TensorFlow 2.x.<br>\n",
       "We recommend you <a href=\"https://www.tensorflow.org/guide/migrate\" target=\"_blank\">upgrade</a> now \n",
       "or ensure your notebook will continue to use TensorFlow 1.x via the <code>%tensorflow_version 1.x</code> magic:\n",
       "<a href=\"https://colab.research.google.com/notebooks/tensorflow_version.ipynb\" target=\"_blank\">more info</a>.</p>\n"
      ],
      "text/plain": [
       "<IPython.core.display.HTML object>"
      ]
     },
     "metadata": {
      "tags": []
     },
     "output_type": "display_data"
    }
   ],
   "source": [
    "import matplotlib.pyplot as plt\n",
    "from keras.preprocessing.text import Tokenizer\n",
    "from keras.preprocessing.sequence import pad_sequences\n",
    "from keras.layers import Dense, Input, LSTM, Embedding, Dropout, Activation, CuDNNGRU, Conv1D\n",
    "from keras.layers import Bidirectional, GlobalMaxPool1D\n",
    "from keras.models import Model\n",
    "from keras import initializers, regularizers, constraints, optimizers, layers"
   ]
  },
  {
   "cell_type": "code",
   "execution_count": null,
   "metadata": {
    "id": "oBwaw0D6Jg2f"
   },
   "outputs": [],
   "source": [
    "maxlen = 300\n",
    "max_features = 50000"
   ]
  },
  {
   "cell_type": "code",
   "execution_count": null,
   "metadata": {
    "id": "6v4x8c3GJg2h"
   },
   "outputs": [],
   "source": [
    "EMBEDDING_FILE = 'glove.6B.300d.txt'\n",
    "tokenizer = Tokenizer(num_words=max_features)"
   ]
  },
  {
   "cell_type": "code",
   "execution_count": null,
   "metadata": {
    "id": "nOlphmFrJg2q"
   },
   "outputs": [],
   "source": [
    "tokenizer.fit_on_texts(x_train)"
   ]
  },
  {
   "cell_type": "code",
   "execution_count": null,
   "metadata": {
    "id": "zFgjFkSRJg2r"
   },
   "outputs": [],
   "source": [
    "x_train_features = np.array(tokenizer.texts_to_sequences(x_train))\n",
    "x_test_features = np.array(tokenizer.texts_to_sequences(x_test))\n",
    "\n",
    "x_train_features = pad_sequences(x_train_features,maxlen=maxlen)\n",
    "x_test_features = pad_sequences(x_test_features,maxlen=maxlen)"
   ]
  },
  {
   "cell_type": "code",
   "execution_count": null,
   "metadata": {
    "colab": {
     "base_uri": "https://localhost:8080/",
     "height": 72
    },
    "id": "crmVKUQNJg2t",
    "outputId": "7f65704d-c8c9-428b-9295-a0b3111599a2"
   },
   "outputs": [
    {
     "name": "stderr",
     "output_type": "stream",
     "text": [
      "/usr/local/lib/python3.6/dist-packages/IPython/core/interactiveshell.py:2822: FutureWarning: arrays to stack must be passed as a \"sequence\" type such as list or tuple. Support for non-sequence iterables such as generators is deprecated as of NumPy 1.16 and will raise an error in the future.\n",
      "  if self.run_code(code, result):\n"
     ]
    }
   ],
   "source": [
    "def get_coefs(word,*arr): \n",
    "    return word, np.asarray(arr, dtype='float32')\n",
    "\n",
    "    \n",
    "embeddings_index = dict(get_coefs(*o.split(\" \")) for o in open(EMBEDDING_FILE))\n",
    "\n",
    "all_embs = np.stack(embeddings_index.values())\n",
    "emb_mean,emb_std = all_embs.mean(), all_embs.std()\n",
    "embed_size = all_embs.shape[1]"
   ]
  },
  {
   "cell_type": "code",
   "execution_count": null,
   "metadata": {
    "colab": {
     "base_uri": "https://localhost:8080/",
     "height": 653
    },
    "id": "m9ZXFPTgJg2x",
    "outputId": "74352e0e-1aa0-4ac2-b8a9-f232bad254b1"
   },
   "outputs": [
    {
     "name": "stdout",
     "output_type": "stream",
     "text": [
      "WARNING:tensorflow:From /usr/local/lib/python3.6/dist-packages/keras/backend/tensorflow_backend.py:148: The name tf.placeholder_with_default is deprecated. Please use tf.compat.v1.placeholder_with_default instead.\n",
      "\n",
      "WARNING:tensorflow:From /usr/local/lib/python3.6/dist-packages/keras/backend/tensorflow_backend.py:3733: calling dropout (from tensorflow.python.ops.nn_ops) with keep_prob is deprecated and will be removed in a future version.\n",
      "Instructions for updating:\n",
      "Please use `rate` instead of `keep_prob`. Rate should be set to `rate = 1 - keep_prob`.\n",
      "WARNING:tensorflow:From /usr/local/lib/python3.6/dist-packages/keras/optimizers.py:793: The name tf.train.Optimizer is deprecated. Please use tf.compat.v1.train.Optimizer instead.\n",
      "\n",
      "WARNING:tensorflow:From /usr/local/lib/python3.6/dist-packages/keras/backend/tensorflow_backend.py:3657: The name tf.log is deprecated. Please use tf.math.log instead.\n",
      "\n",
      "WARNING:tensorflow:From /usr/local/lib/python3.6/dist-packages/tensorflow_core/python/ops/nn_impl.py:183: where (from tensorflow.python.ops.array_ops) is deprecated and will be removed in a future version.\n",
      "Instructions for updating:\n",
      "Use tf.where in 2.0, which has the same broadcast rule as np.where\n",
      "Model: \"model_1\"\n",
      "_________________________________________________________________\n",
      "Layer (type)                 Output Shape              Param #   \n",
      "=================================================================\n",
      "input_3 (InputLayer)         (None, 300)               0         \n",
      "_________________________________________________________________\n",
      "embedding_2 (Embedding)      (None, 300, 300)          15000000  \n",
      "_________________________________________________________________\n",
      "bidirectional_1 (Bidirection (None, 300, 128)          140544    \n",
      "_________________________________________________________________\n",
      "global_max_pooling1d_1 (Glob (None, 128)               0         \n",
      "_________________________________________________________________\n",
      "dense_1 (Dense)              (None, 16)                2064      \n",
      "_________________________________________________________________\n",
      "dropout_1 (Dropout)          (None, 16)                0         \n",
      "_________________________________________________________________\n",
      "dense_2 (Dense)              (None, 1)                 17        \n",
      "=================================================================\n",
      "Total params: 15,142,625\n",
      "Trainable params: 142,625\n",
      "Non-trainable params: 15,000,000\n",
      "_________________________________________________________________\n",
      "None\n"
     ]
    }
   ],
   "source": [
    "from keras.initializers import Constant\n",
    "\n",
    "word_index = tokenizer.word_index\n",
    "nb_words = min(max_features, len(word_index)+1)\n",
    "\n",
    "\n",
    "embedding_matrix = np.random.normal(emb_mean, emb_std, (nb_words, embed_size))\n",
    "for word, i in word_index.items():\n",
    "    if i >= max_features: continue\n",
    "\n",
    "    embedding_vector = embeddings_index.get(word)\n",
    "    if embedding_vector is not None: embedding_matrix[i] = embedding_vector\n",
    "        \n",
    "inp = Input(shape=(maxlen,))\n",
    "x = Embedding(max_features,\n",
    "              embed_size,\n",
    "            #   weights=[embedding_matrix],\n",
    "              embeddings_initializer=Constant(embedding_matrix),\n",
    "              input_length=maxlen,\n",
    "              trainable=False\n",
    "              )(inp)\n",
    "x = Bidirectional(CuDNNGRU(64, return_sequences=True))(x)\n",
    "x = GlobalMaxPool1D()(x)\n",
    "x = Dense(16, activation=\"relu\")(x)\n",
    "x = Dropout(0.1)(x)\n",
    "x = Dense(1, activation=\"sigmoid\")(x)\n",
    "model = Model(inputs=inp, outputs=x)\n",
    "model.compile(loss='binary_crossentropy', optimizer='adam', metrics=['accuracy'])\n",
    "print(model.summary())"
   ]
  },
  {
   "cell_type": "code",
   "execution_count": null,
   "metadata": {
    "colab": {
     "base_uri": "https://localhost:8080/",
     "height": 812
    },
    "id": "Hon62hmIJg21",
    "outputId": "c9a586f9-6d3c-4d08-e2d6-89823369f1a3"
   },
   "outputs": [
    {
     "name": "stdout",
     "output_type": "stream",
     "text": [
      "WARNING:tensorflow:From /usr/local/lib/python3.6/dist-packages/keras/backend/tensorflow_backend.py:1033: The name tf.assign_add is deprecated. Please use tf.compat.v1.assign_add instead.\n",
      "\n",
      "WARNING:tensorflow:From /usr/local/lib/python3.6/dist-packages/keras/backend/tensorflow_backend.py:1020: The name tf.assign is deprecated. Please use tf.compat.v1.assign instead.\n",
      "\n",
      "Epoch 1/20\n",
      "1680/1680 [==============================] - 4s 3ms/step - loss: 0.6558 - acc: 0.6101\n",
      "Epoch 2/20\n",
      "1680/1680 [==============================] - 1s 307us/step - loss: 0.5439 - acc: 0.7649\n",
      "Epoch 3/20\n",
      "1680/1680 [==============================] - 1s 307us/step - loss: 0.4809 - acc: 0.7917\n",
      "Epoch 4/20\n",
      "1680/1680 [==============================] - 1s 311us/step - loss: 0.4397 - acc: 0.8089\n",
      "Epoch 5/20\n",
      "1680/1680 [==============================] - 1s 311us/step - loss: 0.4040 - acc: 0.8280\n",
      "Epoch 6/20\n",
      "1680/1680 [==============================] - 1s 308us/step - loss: 0.3777 - acc: 0.8321\n",
      "Epoch 7/20\n",
      "1680/1680 [==============================] - 1s 308us/step - loss: 0.3503 - acc: 0.8577\n",
      "Epoch 8/20\n",
      "1680/1680 [==============================] - 1s 307us/step - loss: 0.3200 - acc: 0.8726\n",
      "Epoch 9/20\n",
      "1680/1680 [==============================] - 1s 309us/step - loss: 0.2896 - acc: 0.8821\n",
      "Epoch 10/20\n",
      "1680/1680 [==============================] - 1s 303us/step - loss: 0.2675 - acc: 0.9054\n",
      "Epoch 11/20\n",
      "1680/1680 [==============================] - 1s 308us/step - loss: 0.2422 - acc: 0.9143\n",
      "Epoch 12/20\n",
      "1680/1680 [==============================] - 1s 309us/step - loss: 0.2227 - acc: 0.9262\n",
      "Epoch 13/20\n",
      "1680/1680 [==============================] - 1s 305us/step - loss: 0.2049 - acc: 0.9333\n",
      "Epoch 14/20\n",
      "1680/1680 [==============================] - 1s 312us/step - loss: 0.1719 - acc: 0.9470\n",
      "Epoch 15/20\n",
      "1680/1680 [==============================] - 1s 303us/step - loss: 0.1487 - acc: 0.9595\n",
      "Epoch 16/20\n",
      "1680/1680 [==============================] - 1s 305us/step - loss: 0.1315 - acc: 0.9643\n",
      "Epoch 17/20\n",
      "1680/1680 [==============================] - 1s 301us/step - loss: 0.1229 - acc: 0.9613\n",
      "Epoch 18/20\n",
      "1680/1680 [==============================] - 1s 307us/step - loss: 0.1076 - acc: 0.9685\n",
      "Epoch 19/20\n",
      "1680/1680 [==============================] - 1s 310us/step - loss: 0.0936 - acc: 0.9768\n",
      "Epoch 20/20\n",
      "1680/1680 [==============================] - 1s 304us/step - loss: 0.1052 - acc: 0.9685\n"
     ]
    }
   ],
   "source": [
    "history = model.fit(x_train_features,y_train, batch_size=128, epochs=20)"
   ]
  },
  {
   "cell_type": "code",
   "execution_count": null,
   "metadata": {
    "colab": {
     "base_uri": "https://localhost:8080/",
     "height": 506
    },
    "id": "bkSl2rJxJg23",
    "outputId": "25095f92-023f-4a5e-aab8-2f5859d8d2da"
   },
   "outputs": [],
   "source": [
    "plt.plot(history.history['acc'])\n",
    "# plt.plot(history.history['val_acc'])\n",
    "plt.title('model accuracy')\n",
    "plt.ylabel('accuracy')\n",
    "plt.xlabel('epoch')\n",
    "plt.legend(['train', 'test'], loc='upper left')\n",
    "plt.show()"
   ]
  },
  {
   "cell_type": "markdown",
   "metadata": {
    "id": "gOoYojWtJg3O"
   },
   "source": [
    "### Neural Network w Embedding From Scratch"
   ]
  },
  {
   "cell_type": "code",
   "execution_count": null,
   "metadata": {
    "id": "zncorqyvJg3O"
   },
   "outputs": [],
   "source": [
    "from keras.layers import Dense, Input, LSTM, Embedding, Dropout, Activation, CuDNNGRU, Conv1D\n",
    "from keras.layers import Bidirectional, GlobalMaxPool1D\n",
    "from keras.models import Model\n",
    "from keras import initializers, regularizers, constraints, optimizers, layers\n",
    "from keras.preprocessing.text import Tokenizer\n",
    "from keras.preprocessing.sequence import pad_sequences"
   ]
  },
  {
   "cell_type": "code",
   "execution_count": null,
   "metadata": {
    "id": "p9W9PJZDJg3S"
   },
   "outputs": [],
   "source": [
    "## some config values \n",
    "embed_size = 100 # how big is each word vector\n",
    "max_feature = 50000 # how many unique words to use (i.e num rows in embedding vector)\n",
    "max_len = 2000 # max number of words in a question to use"
   ]
  },
  {
   "cell_type": "code",
   "execution_count": null,
   "metadata": {
    "id": "tfrdY0NbJg3U"
   },
   "outputs": [],
   "source": [
    "tokenizer = Tokenizer(num_words=max_feature)"
   ]
  },
  {
   "cell_type": "code",
   "execution_count": null,
   "metadata": {
    "id": "0ulmgu2_Jg3V"
   },
   "outputs": [],
   "source": [
    "tokenizer.fit_on_texts(x_train)"
   ]
  },
  {
   "cell_type": "code",
   "execution_count": null,
   "metadata": {
    "id": "15_Olth-Jg3W"
   },
   "outputs": [],
   "source": [
    "x_train_features = np.array(tokenizer.texts_to_sequences(x_train))\n",
    "x_test_features = np.array(tokenizer.texts_to_sequences(x_test))"
   ]
  },
  {
   "cell_type": "code",
   "execution_count": null,
   "metadata": {
    "id": "STmnfjEsJg3X"
   },
   "outputs": [],
   "source": [
    "x_train_features = pad_sequences(x_train_features,maxlen=max_len)\n",
    "x_test_features = pad_sequences(x_test_features,maxlen=max_len)"
   ]
  },
  {
   "cell_type": "code",
   "execution_count": null,
   "metadata": {
    "colab": {
     "base_uri": "https://localhost:8080/",
     "height": 399
    },
    "id": "TxXSia3XJg3Z",
    "outputId": "2f0b12ae-71cf-4fe7-a598-13e6f230e77c"
   },
   "outputs": [
    {
     "name": "stdout",
     "output_type": "stream",
     "text": [
      "_________________________________________________________________\n",
      "Layer (type)                 Output Shape              Param #   \n",
      "=================================================================\n",
      "input_2 (InputLayer)         (None, 2000)              0         \n",
      "_________________________________________________________________\n",
      "embedding_2 (Embedding)      (None, 2000, 100)         5000000   \n",
      "_________________________________________________________________\n",
      "bidirectional_2 (Bidirection (None, 2000, 128)         63744     \n",
      "_________________________________________________________________\n",
      "global_max_pooling1d_2 (Glob (None, 128)               0         \n",
      "_________________________________________________________________\n",
      "dense_3 (Dense)              (None, 16)                2064      \n",
      "_________________________________________________________________\n",
      "dropout_2 (Dropout)          (None, 16)                0         \n",
      "_________________________________________________________________\n",
      "dense_4 (Dense)              (None, 1)                 17        \n",
      "=================================================================\n",
      "Total params: 5,065,825\n",
      "Trainable params: 5,065,825\n",
      "Non-trainable params: 0\n",
      "_________________________________________________________________\n",
      "None\n"
     ]
    }
   ],
   "source": [
    "embed_size = 100\n",
    "\n",
    "inp = Input(shape=(max_len,))\n",
    "x = Embedding(max_feature, embed_size)(inp)\n",
    "x = Bidirectional(CuDNNGRU(64, return_sequences=True))(x)\n",
    "x = GlobalMaxPool1D()(x)\n",
    "x = Dense(16, activation=\"relu\")(x)\n",
    "x = Dropout(0.1)(x)\n",
    "x = Dense(1, activation=\"sigmoid\")(x)\n",
    "model = Model(inputs=inp, outputs=x)\n",
    "model.compile(loss='binary_crossentropy', optimizer='adam', metrics=['accuracy'])\n",
    "\n",
    "print(model.summary())"
   ]
  },
  {
   "cell_type": "code",
   "execution_count": null,
   "metadata": {
    "colab": {
     "base_uri": "https://localhost:8080/",
     "height": 749
    },
    "id": "wLR9OTUGJg3g",
    "outputId": "b4cfaf90-73b4-4c25-d389-08e1c50e9266"
   },
   "outputs": [
    {
     "name": "stdout",
     "output_type": "stream",
     "text": [
      "Train on 3795 samples, validate on 1281 samples\n",
      "Epoch 1/20\n",
      "3795/3795 [==============================] - 9s 2ms/step - loss: 0.6305 - acc: 0.7937 - val_loss: 0.5624 - val_acc: 0.7916\n",
      "Epoch 2/20\n",
      "3795/3795 [==============================] - 8s 2ms/step - loss: 0.5221 - acc: 0.7950 - val_loss: 0.4889 - val_acc: 0.7916\n",
      "Epoch 3/20\n",
      "3795/3795 [==============================] - 8s 2ms/step - loss: 0.4808 - acc: 0.7950 - val_loss: 0.4699 - val_acc: 0.7916\n",
      "Epoch 4/20\n",
      "3795/3795 [==============================] - 8s 2ms/step - loss: 0.4458 - acc: 0.7950 - val_loss: 0.4278 - val_acc: 0.7916\n",
      "Epoch 5/20\n",
      "3795/3795 [==============================] - 8s 2ms/step - loss: 0.3939 - acc: 0.7950 - val_loss: 0.3608 - val_acc: 0.7916\n",
      "Epoch 6/20\n",
      "3795/3795 [==============================] - 8s 2ms/step - loss: 0.2967 - acc: 0.8274 - val_loss: 0.2337 - val_acc: 0.8813\n",
      "Epoch 7/20\n",
      "3795/3795 [==============================] - 8s 2ms/step - loss: 0.1575 - acc: 0.9505 - val_loss: 0.1181 - val_acc: 0.9828\n",
      "Epoch 8/20\n",
      "3795/3795 [==============================] - 8s 2ms/step - loss: 0.0825 - acc: 0.9763 - val_loss: 0.0922 - val_acc: 0.9625\n",
      "Epoch 9/20\n",
      "3795/3795 [==============================] - 8s 2ms/step - loss: 0.0343 - acc: 0.9931 - val_loss: 0.1046 - val_acc: 0.9758\n",
      "Epoch 10/20\n",
      "3795/3795 [==============================] - 8s 2ms/step - loss: 0.0269 - acc: 0.9953 - val_loss: 0.0582 - val_acc: 0.9820\n",
      "Epoch 11/20\n",
      "3795/3795 [==============================] - 8s 2ms/step - loss: 0.0173 - acc: 0.9958 - val_loss: 0.0861 - val_acc: 0.9789\n",
      "Epoch 12/20\n",
      "3795/3795 [==============================] - 8s 2ms/step - loss: 0.0234 - acc: 0.9953 - val_loss: 0.0530 - val_acc: 0.9836\n",
      "Epoch 13/20\n",
      "3795/3795 [==============================] - 8s 2ms/step - loss: 0.0099 - acc: 0.9982 - val_loss: 0.0576 - val_acc: 0.9844\n",
      "Epoch 14/20\n",
      "3795/3795 [==============================] - 8s 2ms/step - loss: 0.0071 - acc: 0.9987 - val_loss: 0.0587 - val_acc: 0.9836\n",
      "Epoch 15/20\n",
      "3795/3795 [==============================] - 8s 2ms/step - loss: 0.0051 - acc: 0.9995 - val_loss: 0.0583 - val_acc: 0.9844\n",
      "Epoch 16/20\n",
      "3795/3795 [==============================] - 8s 2ms/step - loss: 0.0095 - acc: 0.9984 - val_loss: 0.0603 - val_acc: 0.9844\n",
      "Epoch 17/20\n",
      "3795/3795 [==============================] - 8s 2ms/step - loss: 0.0050 - acc: 0.9989 - val_loss: 0.0804 - val_acc: 0.9742\n",
      "Epoch 18/20\n",
      "3795/3795 [==============================] - 8s 2ms/step - loss: 0.0067 - acc: 0.9979 - val_loss: 0.0567 - val_acc: 0.9836\n",
      "Epoch 19/20\n",
      "3795/3795 [==============================] - 8s 2ms/step - loss: 0.0060 - acc: 0.9984 - val_loss: 0.0668 - val_acc: 0.9797\n",
      "Epoch 20/20\n",
      "3795/3795 [==============================] - 8s 2ms/step - loss: 0.0050 - acc: 0.9989 - val_loss: 0.0606 - val_acc: 0.9836\n"
     ]
    }
   ],
   "source": [
    "history = model.fit(x_train_features, y_train, batch_size=512, epochs=20, validation_data=(x_test_features, y_test))"
   ]
  },
  {
   "cell_type": "code",
   "execution_count": null,
   "metadata": {
    "colab": {
     "base_uri": "https://localhost:8080/",
     "height": 376
    },
    "id": "o6ddZ8E1Jg3k",
    "outputId": "4a651eb0-71bd-4dcb-a73b-bd7378170c01"
   },
   "outputs": [
    {
     "data": {
      "image/png": "[encoded data removed]",
      "text/plain": [
       "<Figure size 576x396 with 1 Axes>"
      ]
     },
     "metadata": {
      "tags": []
     },
     "output_type": "display_data"
    }
   ],
   "source": [
    "plt.plot(history.history['acc'])\n",
    "plt.plot(history.history['val_acc'])\n",
    "plt.title('model accuracy')\n",
    "plt.ylabel('accuracy')\n",
    "plt.xlabel('epoch')\n",
    "plt.legend(['train', 'test'], loc='upper left')\n",
    "plt.show()"
   ]
  },
  {
   "cell_type": "markdown",
   "metadata": {
    "id": "j5yDxKs7Jg3l"
   },
   "source": [
    "## Evaluation"
   ]
  },
  {
   "cell_type": "code",
   "execution_count": null,
   "metadata": {
    "id": "TzGF_hA4Jg3m"
   },
   "outputs": [],
   "source": [
    "from sklearn.metrics import confusion_matrix,f1_score, precision_score,recall_score,accuracy_score"
   ]
  },
  {
   "cell_type": "code",
   "execution_count": null,
   "metadata": {
    "id": "gkJQ-yURJg3n"
   },
   "outputs": [],
   "source": [
    "y_predict  = [1 if o>0.5 else 0 for o in model.predict(x_test_features)]"
   ]
  },
  {
   "cell_type": "code",
   "execution_count": null,
   "metadata": {
    "colab": {
     "base_uri": "https://localhost:8080/",
     "height": 72
    },
    "id": "gB21196PJg3o",
    "outputId": "927b95fd-d741-4e37-dd2e-5df3fae856b0"
   },
   "outputs": [
    {
     "data": {
      "text/plain": [
       "array([[251,  56],\n",
       "       [ 72, 181]])"
      ]
     },
     "execution_count": 150,
     "metadata": {
      "tags": []
     },
     "output_type": "execute_result"
    }
   ],
   "source": [
    "confusion_matrix(y_test,y_predict)"
   ]
  },
  {
   "cell_type": "code",
   "execution_count": null,
   "metadata": {
    "id": "kberNYWIJg3r"
   },
   "outputs": [],
   "source": [
    "tn, fp, fn, tp = confusion_matrix(y_test,y_predict).ravel()"
   ]
  },
  {
   "cell_type": "code",
   "execution_count": null,
   "metadata": {
    "colab": {
     "base_uri": "https://localhost:8080/",
     "height": 90
    },
    "id": "kshhXwFAJg3s",
    "outputId": "26e31a34-433b-44bb-c68e-fbb2230e6dc0"
   },
   "outputs": [
    {
     "name": "stdout",
     "output_type": "stream",
     "text": [
      "Accuracy: 77.14%\n",
      "Precision: 76.37%\n",
      "Recall: 71.54%\n"
     ]
    }
   ],
   "source": [
    "print(\"Accuracy: {:.2f}%\".format(100*accuracy_score(y_test,y_predict)))\n",
    "print(\"Precision: {:.2f}%\".format(100 * precision_score(y_test, y_predict)))\n",
    "print(\"Recall: {:.2f}%\".format(100 * recall_score(y_test, y_predict)))"
   ]
  },
  {
   "cell_type": "code",
   "execution_count": null,
   "metadata": {
    "colab": {
     "base_uri": "https://localhost:8080/",
     "height": 55
    },
    "id": "x8pacWZkJg3v",
    "outputId": "cb0161db-4f14-40c9-a6e3-4d5720923677"
   },
   "outputs": [
    {
     "data": {
      "text/plain": [
       "0.7387755102040815"
      ]
     },
     "execution_count": 153,
     "metadata": {
      "tags": []
     },
     "output_type": "execute_result"
    }
   ],
   "source": [
    "f1_score(y_test,y_predict)"
   ]
  },
  {
   "cell_type": "markdown",
   "metadata": {
    "id": "09TivZGrJg3y"
   },
   "source": [
    "\n",
    "\n",
    "### Plot confusion matrix"
   ]
  },
  {
   "cell_type": "code",
   "execution_count": null,
   "metadata": {
    "id": "KJyDyVJHJg3y"
   },
   "outputs": [],
   "source": [
    "import matplotlib.pyplot as plt\n",
    "from sklearn.metrics import confusion_matrix\n",
    "import itertools\n",
    "\n",
    "cnf_matrix = confusion_matrix(y_test,y_predict)\n",
    "\n",
    "def plot_confusion_matrix(cm, classes,\n",
    "                          normalize=False,\n",
    "                          title='Confusion matrix',\n",
    "                          cmap=plt.cm.Blues):\n",
    "    \"\"\"\n",
    "    This function prints and plots the confusion matrix.\n",
    "    Normalization can be applied by setting `normalize=True`.\n",
    "    \"\"\"\n",
    "    if normalize:\n",
    "        cm = cm.astype('float') / cm.sum(axis=1)[:, np.newaxis]\n",
    "        print(\"Normalized confusion matrix\")\n",
    "    else:\n",
    "        print('Confusion matrix, without normalization')\n",
    "\n",
    "    print(cm)\n",
    "\n",
    "    plt.imshow(cm, interpolation='nearest', cmap=cmap)\n",
    "    plt.title(title)\n",
    "    plt.colorbar()\n",
    "    tick_marks = np.arange(len(classes))\n",
    "    plt.xticks(tick_marks, classes, rotation=45)\n",
    "    plt.yticks(tick_marks, classes)\n",
    "\n",
    "    fmt = '.2f' if normalize else 'd'\n",
    "    thresh = cm.max() / 2.\n",
    "    for i, j in itertools.product(range(cm.shape[0]), range(cm.shape[1])):\n",
    "        plt.text(j, i, format(cm[i, j], fmt),\n",
    "                 horizontalalignment=\"center\",\n",
    "                 color=\"white\" if cm[i, j] > thresh else \"black\")\n",
    "\n",
    "    plt.ylabel('True label')\n",
    "    plt.xlabel('Predicted label')\n",
    "    plt.tight_layout()"
   ]
  },
  {
   "cell_type": "code",
   "execution_count": null,
   "metadata": {
    "colab": {
     "base_uri": "https://localhost:8080/",
     "height": 370
    },
    "id": "xSafPEb4Jg3z",
    "outputId": "63ea1245-5692-4509-d116-efc57d15b207"
   },
   "outputs": [
    {
     "name": "stdout",
     "output_type": "stream",
     "text": [
      "Confusion matrix, without normalization\n",
      "[[251  56]\n",
      " [ 72 181]]\n"
     ]
    },
    {
     "data": {
      "image/png": "[encoded data removed]",
      "text/plain": [
       "<Figure size 432x288 with 2 Axes>"
      ]
     },
     "metadata": {
      "tags": []
     },
     "output_type": "display_data"
    }
   ],
   "source": [
    "plt.figure()\n",
    "plot_confusion_matrix(cnf_matrix, classes=['Relevant','Not Relevant'], normalize=False,\n",
    "                      title='Confusion matrix')"
   ]
  },
  {
   "cell_type": "code",
   "execution_count": null,
   "metadata": {
    "id": "TRASX4txVNJS"
   },
   "outputs": [],
   "source": [
    "wrong_idx = np.where(y_test != y_predict)[0]"
   ]
  },
  {
   "cell_type": "markdown",
   "metadata": {
    "id": "T1kxXacHYLpo"
   },
   "source": [
    "# Error Analysis on Unlabeled Tweets "
   ]
  },
  {
   "cell_type": "code",
   "execution_count": null,
   "metadata": {
    "colab": {
     "base_uri": "https://localhost:8080/",
     "height": 260
    },
    "id": "gD1E1s9xVRLT",
    "outputId": "9501bc37-6937-4e77-a526-af55c2a24ea2"
   },
   "outputs": [
    {
     "data": {
      "text/html": [
       "<div>\n",
       "<style scoped>\n",
       "    .dataframe tbody tr th:only-of-type {\n",
       "        vertical-align: middle;\n",
       "    }\n",
       "\n",
       "    .dataframe tbody tr th {\n",
       "        vertical-align: top;\n",
       "    }\n",
       "\n",
       "    .dataframe thead th {\n",
       "        text-align: right;\n",
       "    }\n",
       "</style>\n",
       "<table border=\"1\" class=\"dataframe\">\n",
       "  <thead>\n",
       "    <tr style=\"text-align: right;\">\n",
       "      <th></th>\n",
       "      <th>Tweet</th>\n",
       "      <th>Sentiment</th>\n",
       "      <th>Objetive/Subjective</th>\n",
       "    </tr>\n",
       "    <tr>\n",
       "      <th>db_id</th>\n",
       "      <th></th>\n",
       "      <th></th>\n",
       "      <th></th>\n",
       "    </tr>\n",
       "  </thead>\n",
       "  <tbody>\n",
       "    <tr>\n",
       "      <th>0</th>\n",
       "      <td>FB high OI range is        to        for opti...</td>\n",
       "      <td>0</td>\n",
       "      <td>0.540000</td>\n",
       "    </tr>\n",
       "    <tr>\n",
       "      <th>1</th>\n",
       "      <td>Is Facebook Doubling Down on Virtual Reality  ...</td>\n",
       "      <td>-1</td>\n",
       "      <td>0.288889</td>\n",
       "    </tr>\n",
       "    <tr>\n",
       "      <th>2</th>\n",
       "      <td>markfidelman   What Zuckerberg Should Have Tol...</td>\n",
       "      <td>-1</td>\n",
       "      <td>0.000000</td>\n",
       "    </tr>\n",
       "    <tr>\n",
       "      <th>3</th>\n",
       "      <td>What Zuckerberg Should Have Told Congress Abou...</td>\n",
       "      <td>-1</td>\n",
       "      <td>0.000000</td>\n",
       "    </tr>\n",
       "    <tr>\n",
       "      <th>4</th>\n",
       "      <td>Facebook  Inc   FB Given Average Rating of  Bu...</td>\n",
       "      <td>1</td>\n",
       "      <td>0.400000</td>\n",
       "    </tr>\n",
       "  </tbody>\n",
       "</table>\n",
       "</div>"
      ],
      "text/plain": [
       "                                                   Tweet  ...  Objetive/Subjective\n",
       "db_id                                                     ...                     \n",
       "0       FB high OI range is        to        for opti...  ...             0.540000\n",
       "1      Is Facebook Doubling Down on Virtual Reality  ...  ...             0.288889\n",
       "2      markfidelman   What Zuckerberg Should Have Tol...  ...             0.000000\n",
       "3      What Zuckerberg Should Have Told Congress Abou...  ...             0.000000\n",
       "4      Facebook  Inc   FB Given Average Rating of  Bu...  ...             0.400000\n",
       "\n",
       "[5 rows x 3 columns]"
      ]
     },
     "execution_count": 190,
     "metadata": {
      "tags": []
     },
     "output_type": "execute_result"
    }
   ],
   "source": [
    "all_tweets_df = pd.read_csv('moodstock_data/MoodstockDataset_0-10k.csv', sep=';', index_col='db_id')\n",
    "all_tweets_df.head()"
   ]
  },
  {
   "cell_type": "code",
   "execution_count": null,
   "metadata": {
    "id": "U0ntDofyVG4B"
   },
   "outputs": [],
   "source": [
    "subsample = np.random.randint(2500, 8000, 30)\n",
    "x_tweets = all_tweets_df.iloc[subsample]['Tweet'].values"
   ]
  },
  {
   "cell_type": "code",
   "execution_count": null,
   "metadata": {
    "id": "-MO5s3OPXMwK"
   },
   "outputs": [],
   "source": [
    "# Create x_tweets, y_tweets\n",
    "\n",
    "# Sentence clean-up\n",
    "x_tweets = [clean_up_pipeline(o) for o in x_tweets]\n",
    "# Word clean-up\n",
    "x_tweets = [word_tokenize(o) for o in x_tweets]\n",
    "x_tweets = [clean_token_pipeline(o) for o in x_tweets]\n",
    "\n",
    "\n",
    "# Extract features\n",
    "x_tweets_features = np.array(tokenizer.texts_to_sequences(x_tweets))\n",
    "x_tweets_features = pad_sequences(x_tweets_features,maxlen=maxlen)"
   ]
  },
  {
   "cell_type": "code",
   "execution_count": null,
   "metadata": {
    "colab": {
     "base_uri": "https://localhost:8080/",
     "height": 935
    },
    "id": "XR8z1CjEZ77U",
    "outputId": "d48d570c-dd6d-476e-fb47-6c82ddad6dc4"
   },
   "outputs": [
    {
     "data": {
      "text/plain": [
       "array([[' DIS Disney new ATH', 1],\n",
       "       [' SwanniOnTV  HedgeyeComm  MasterPhoFooga  Here s a fun question for everyone w  this chain in mind  how soon before  DIS offers free Disney  subscriptions with Disney Theme Park packages  If they re stressing  sign ups  this early they have to be favjng bearish internal projections about  subscribers ',\n",
       "        1],\n",
       "       [' TSLA   Tesla Cybertruck Peak Craziness  Sign up for updates on Seeking Alpha    investing  economy  stockmarket',\n",
       "        0],\n",
       "       [' AMZN Update continues to lift off major support      amazon Amazon  qqq  spx  twows ',\n",
       "        1],\n",
       "       ['Disney  Many Moving Parts Fall In Places  DIS ', 0],\n",
       "       [' PG now     from     ', 0],\n",
       "       ['Why private college closures are on the rise  TSLA  ', 0],\n",
       "       [' DIS its not that often you see massive accumulation in Mega cap stocks  Disney is showing it over the last few months      Note the huge sell bar and volume back in       the stock went nowhere for   years after  The Big Boys     matters ',\n",
       "        0],\n",
       "       [' LarrySabin   NFLX at      ridiculous', 1],\n",
       "       ['possible  DIS consolidate and flag here for the break through of     one time  ',\n",
       "        0],\n",
       "       [' NFLX downgraded', 1],\n",
       "       ['      Earnings Per Share Expected for Tesla Inc  TSLA This Quarter ',\n",
       "        0],\n",
       "       [' TSLA   Tesla CEO Musk Says Company Has Received    K Cybertruck Orders   ',\n",
       "        1],\n",
       "       ['CyberVan should be developed with the same concept of cybertrucks exoskeleton but the rear part of van folds apart for a normal looking truck   elonmusk  Kristennetten  nickwhoward point me to someone who could sketch a  TSLA van that the rear transforms to a truck ',\n",
       "        0],\n",
       "       ['A Thanksgiving story about how  Tesla was able to bring our family back together  check it out    TSLA  TeslaMotors  TeslaModelS  TeslaModelX  TeslaModel   TeslaCybertruck  ElectricVehicle  elonmusk  Tesla',\n",
       "        1],\n",
       "       ['I hope I don t give anyone the impression that I m a permabear because I m not  I have an  AMZN position that I put in a week or two ago and it s been great    I will divulge when I m out so you can see the kind of great work I do for my clients ',\n",
       "        0],\n",
       "       [' DIS over    ', 1],\n",
       "       [' SFIUpdate  LBalcerowicz  Radio TOK FM  thomaspower  khoi  bweglarczyk  sekielski  RyszardKalisz  PepsiCo  KoltonRoman I want to know your opinion on  WhoTrades about forecast by Chris Lau about  DIS ',\n",
       "        1],\n",
       "       [' DIS qwik qwestion    how many folks will talk about Dizzy   over Thanksgiving  ',\n",
       "        1],\n",
       "       ['Is  AmazonPrime Membership Worth It for  BlackFriday Alone   themotleyfool  stocks  Amazon  AMZN ',\n",
       "        0],\n",
       "       ['Highland Capital Management LLC Reduces Position in Procter  amp  Gamble Co  NYSE PG   PG ',\n",
       "        0],\n",
       "       ['Imagine wasting your coke filled paint jobs efforts on  TSLA today',\n",
       "        0],\n",
       "       [' AMZN chart is finally starting to perk up  I remain long ', 0],\n",
       "       [' BearingtonTrade Good news for you  I closed        DIS    C  so      ',\n",
       "        0],\n",
       "       [' DIS Will be around forever     ', 0],\n",
       "       [' TSLA  Long queue of Teslas wait for their turn at San Luis Obispo  CA Supercharger Station on Thanksgiving Day   Nov       ',\n",
       "        1],\n",
       "       ['SCOOP  Tesla Reddit subscribers jumped by   k   from    k to    k in a just a few days after  Cybertruck unveil    Takeaways      Its not just the already existing  Tesla fangirls boys liking the truck      Some may end up getting SEXY instead      amp  Many will end up buying  TSLA',\n",
       "        0],\n",
       "       [' Reuters Just cancelled  DIS Disney  trial sub  so time to short that puppy   ',\n",
       "        0],\n",
       "       ['Very nice Maye  Didn t know Matthew McConaughey was Elon s brother      elonmusk  TSLA ',\n",
       "        0],\n",
       "       [' AMZN note it went Monthly up back over      this AM', 0]],\n",
       "      dtype=object)"
      ]
     },
     "execution_count": 205,
     "metadata": {
      "tags": []
     },
     "output_type": "execute_result"
    }
   ],
   "source": [
    "y_predict_tweets  = [1 if o>0.5 else 0 for o in model.predict(x_tweets_features)]\n",
    "\n",
    "result = pd.DataFrame(zip(all_tweets_df.iloc[subsample]['Tweet'].values, y_predict_tweets))\n",
    "result.values"
   ]
  },
  {
   "cell_type": "code",
   "execution_count": null,
   "metadata": {
    "id": "nyeeCbS7Wi0C"
   },
   "outputs": [],
   "source": [
    "result.to_csv('test.csv')"
   ]
  },
  {
   "cell_type": "code",
   "execution_count": null,
   "metadata": {
    "colab": {
     "base_uri": "https://localhost:8080/",
     "height": 90
    },
    "id": "cEVKqf1hZExe",
    "outputId": "47e1c45a-d169-4239-fe24-ecacf7d87d51"
   },
   "outputs": [
    {
     "name": "stdout",
     "output_type": "stream",
     "text": [
      "datasets\t\t     glove.6B.300d.txt\t\t test.csv\n",
      "glove.42B.300d.txt\t     glove.6B.300d.word2vec.txt  tweet_data\n",
      "glove.42B.300d.word2vec.txt  glove-embeddings.csv\n"
     ]
    }
   ],
   "source": [
    "!ls"
   ]
  },
  {
   "cell_type": "code",
   "execution_count": null,
   "metadata": {
    "id": "u1f7WrDtZLXF"
   },
   "outputs": [],
   "source": []
  }
 ],
 "metadata": {
  "accelerator": "GPU",
  "colab": {
   "collapsed_sections": [
    "UNVgntkNJg1e",
    "1MHRNilvJg16",
    "U7sRMbhKJg2d",
    "gOoYojWtJg3O",
    "j5yDxKs7Jg3l",
    "09TivZGrJg3y"
   ],
   "machine_shape": "hm",
   "name": "TweetFilterClassifier.ipynb",
   "provenance": []
  },
  "kernelspec": {
   "display_name": "Python 3",
   "language": "python",
   "name": "python3"
  },
  "language_info": {
   "codemirror_mode": {
    "name": "ipython",
    "version": 3
   },
   "file_extension": ".py",
   "mimetype": "text/x-python",
   "name": "python",
   "nbconvert_exporter": "python",
   "pygments_lexer": "ipython3",
   "version": "3.7.3"
  }
 },
 "nbformat": 4,
 "nbformat_minor": 1
}
